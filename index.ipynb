{
 "cells": [
  {
   "cell_type": "markdown",
   "metadata": {},
   "source": [
    "# Sales Report"
   ]
  },
  {
   "cell_type": "markdown",
   "metadata": {},
   "source": [
    "## Business Overview"
   ]
  },
  {
   "cell_type": "markdown",
   "metadata": {},
   "source": [
    "## Business Problem"
   ]
  },
  {
   "cell_type": "markdown",
   "metadata": {},
   "source": [
    "## Data Understanding"
   ]
  },
  {
   "cell_type": "markdown",
   "metadata": {},
   "source": [
    "###  Data Loading & Inspection"
   ]
  },
  {
   "cell_type": "markdown",
   "metadata": {},
   "source": [
    "#### Import Relevant Libraries"
   ]
  },
  {
   "cell_type": "code",
   "execution_count": 24,
   "metadata": {},
   "outputs": [],
   "source": [
    "# Data analysis tools\n",
    "import pandas as pd\n",
    "import numpy as np\n",
    "# Visualization tools\n",
    "import seaborn as sns\n",
    "import matplotlib.pyplot as plt\n",
    "%matplotlib inline\n"
   ]
  },
  {
   "cell_type": "code",
   "execution_count": 25,
   "metadata": {},
   "outputs": [
    {
     "data": {
      "text/html": [
       "<div>\n",
       "<style scoped>\n",
       "    .dataframe tbody tr th:only-of-type {\n",
       "        vertical-align: middle;\n",
       "    }\n",
       "\n",
       "    .dataframe tbody tr th {\n",
       "        vertical-align: top;\n",
       "    }\n",
       "\n",
       "    .dataframe thead th {\n",
       "        text-align: right;\n",
       "    }\n",
       "</style>\n",
       "<table border=\"1\" class=\"dataframe\">\n",
       "  <thead>\n",
       "    <tr style=\"text-align: right;\">\n",
       "      <th></th>\n",
       "      <th>Product_ID</th>\n",
       "      <th>Sale_Date</th>\n",
       "      <th>Sales_Rep</th>\n",
       "      <th>Region</th>\n",
       "      <th>Sales_Amount</th>\n",
       "      <th>Quantity_Sold</th>\n",
       "      <th>Product_Category</th>\n",
       "      <th>Unit_Cost</th>\n",
       "      <th>Unit_Price</th>\n",
       "      <th>Customer_Type</th>\n",
       "      <th>Discount</th>\n",
       "      <th>Payment_Method</th>\n",
       "      <th>Sales_Channel</th>\n",
       "      <th>Region_and_Sales_Rep</th>\n",
       "    </tr>\n",
       "  </thead>\n",
       "  <tbody>\n",
       "    <tr>\n",
       "      <th>914</th>\n",
       "      <td>1027</td>\n",
       "      <td>2023-04-16</td>\n",
       "      <td>Alice</td>\n",
       "      <td>East</td>\n",
       "      <td>8241.57</td>\n",
       "      <td>7</td>\n",
       "      <td>Food</td>\n",
       "      <td>2371.85</td>\n",
       "      <td>2457.29</td>\n",
       "      <td>New</td>\n",
       "      <td>0.03</td>\n",
       "      <td>Cash</td>\n",
       "      <td>Retail</td>\n",
       "      <td>East-Alice</td>\n",
       "    </tr>\n",
       "    <tr>\n",
       "      <th>677</th>\n",
       "      <td>1086</td>\n",
       "      <td>2023-05-04</td>\n",
       "      <td>Bob</td>\n",
       "      <td>West</td>\n",
       "      <td>7841.40</td>\n",
       "      <td>25</td>\n",
       "      <td>Food</td>\n",
       "      <td>2248.71</td>\n",
       "      <td>2626.02</td>\n",
       "      <td>New</td>\n",
       "      <td>0.08</td>\n",
       "      <td>Bank Transfer</td>\n",
       "      <td>Online</td>\n",
       "      <td>West-Bob</td>\n",
       "    </tr>\n",
       "    <tr>\n",
       "      <th>31</th>\n",
       "      <td>1059</td>\n",
       "      <td>2023-08-31</td>\n",
       "      <td>Alice</td>\n",
       "      <td>North</td>\n",
       "      <td>1203.97</td>\n",
       "      <td>35</td>\n",
       "      <td>Food</td>\n",
       "      <td>3333.64</td>\n",
       "      <td>3764.52</td>\n",
       "      <td>Returning</td>\n",
       "      <td>0.02</td>\n",
       "      <td>Credit Card</td>\n",
       "      <td>Online</td>\n",
       "      <td>North-Alice</td>\n",
       "    </tr>\n",
       "    <tr>\n",
       "      <th>417</th>\n",
       "      <td>1013</td>\n",
       "      <td>2023-02-03</td>\n",
       "      <td>Bob</td>\n",
       "      <td>North</td>\n",
       "      <td>6520.20</td>\n",
       "      <td>42</td>\n",
       "      <td>Clothing</td>\n",
       "      <td>4625.33</td>\n",
       "      <td>4642.83</td>\n",
       "      <td>New</td>\n",
       "      <td>0.19</td>\n",
       "      <td>Credit Card</td>\n",
       "      <td>Online</td>\n",
       "      <td>North-Bob</td>\n",
       "    </tr>\n",
       "    <tr>\n",
       "      <th>372</th>\n",
       "      <td>1099</td>\n",
       "      <td>2023-10-20</td>\n",
       "      <td>David</td>\n",
       "      <td>South</td>\n",
       "      <td>7859.22</td>\n",
       "      <td>23</td>\n",
       "      <td>Clothing</td>\n",
       "      <td>93.45</td>\n",
       "      <td>181.62</td>\n",
       "      <td>Returning</td>\n",
       "      <td>0.30</td>\n",
       "      <td>Bank Transfer</td>\n",
       "      <td>Retail</td>\n",
       "      <td>South-David</td>\n",
       "    </tr>\n",
       "    <tr>\n",
       "      <th>156</th>\n",
       "      <td>1077</td>\n",
       "      <td>2023-02-07</td>\n",
       "      <td>Eve</td>\n",
       "      <td>West</td>\n",
       "      <td>9605.34</td>\n",
       "      <td>12</td>\n",
       "      <td>Clothing</td>\n",
       "      <td>2427.46</td>\n",
       "      <td>2743.09</td>\n",
       "      <td>New</td>\n",
       "      <td>0.29</td>\n",
       "      <td>Credit Card</td>\n",
       "      <td>Retail</td>\n",
       "      <td>West-Eve</td>\n",
       "    </tr>\n",
       "    <tr>\n",
       "      <th>359</th>\n",
       "      <td>1048</td>\n",
       "      <td>2023-02-05</td>\n",
       "      <td>David</td>\n",
       "      <td>North</td>\n",
       "      <td>9070.26</td>\n",
       "      <td>42</td>\n",
       "      <td>Electronics</td>\n",
       "      <td>4723.83</td>\n",
       "      <td>5186.19</td>\n",
       "      <td>Returning</td>\n",
       "      <td>0.22</td>\n",
       "      <td>Credit Card</td>\n",
       "      <td>Online</td>\n",
       "      <td>North-David</td>\n",
       "    </tr>\n",
       "  </tbody>\n",
       "</table>\n",
       "</div>"
      ],
      "text/plain": [
       "     Product_ID   Sale_Date Sales_Rep Region  Sales_Amount  Quantity_Sold  \\\n",
       "914        1027  2023-04-16     Alice   East       8241.57              7   \n",
       "677        1086  2023-05-04       Bob   West       7841.40             25   \n",
       "31         1059  2023-08-31     Alice  North       1203.97             35   \n",
       "417        1013  2023-02-03       Bob  North       6520.20             42   \n",
       "372        1099  2023-10-20     David  South       7859.22             23   \n",
       "156        1077  2023-02-07       Eve   West       9605.34             12   \n",
       "359        1048  2023-02-05     David  North       9070.26             42   \n",
       "\n",
       "    Product_Category  Unit_Cost  Unit_Price Customer_Type  Discount  \\\n",
       "914             Food    2371.85     2457.29           New      0.03   \n",
       "677             Food    2248.71     2626.02           New      0.08   \n",
       "31              Food    3333.64     3764.52     Returning      0.02   \n",
       "417         Clothing    4625.33     4642.83           New      0.19   \n",
       "372         Clothing      93.45      181.62     Returning      0.30   \n",
       "156         Clothing    2427.46     2743.09           New      0.29   \n",
       "359      Electronics    4723.83     5186.19     Returning      0.22   \n",
       "\n",
       "    Payment_Method Sales_Channel Region_and_Sales_Rep  \n",
       "914           Cash        Retail           East-Alice  \n",
       "677  Bank Transfer        Online             West-Bob  \n",
       "31     Credit Card        Online          North-Alice  \n",
       "417    Credit Card        Online            North-Bob  \n",
       "372  Bank Transfer        Retail          South-David  \n",
       "156    Credit Card        Retail             West-Eve  \n",
       "359    Credit Card        Online          North-David  "
      ]
     },
     "execution_count": 25,
     "metadata": {},
     "output_type": "execute_result"
    }
   ],
   "source": [
    "# Load the dataset \n",
    "sales_df = pd.read_csv(\"sales_data.csv\")\n",
    "# View a random sample of 7 records from the df\n",
    "sales_df.sample(7)"
   ]
  },
  {
   "cell_type": "code",
   "execution_count": 26,
   "metadata": {},
   "outputs": [
    {
     "data": {
      "text/plain": [
       "Index(['Product_ID', 'Sale_Date', 'Sales_Rep', 'Region', 'Sales_Amount',\n",
       "       'Quantity_Sold', 'Product_Category', 'Unit_Cost', 'Unit_Price',\n",
       "       'Customer_Type', 'Discount', 'Payment_Method', 'Sales_Channel',\n",
       "       'Region_and_Sales_Rep'],\n",
       "      dtype='object')"
      ]
     },
     "execution_count": 26,
     "metadata": {},
     "output_type": "execute_result"
    }
   ],
   "source": [
    "# Confirm the column names from the column attribute\n",
    "sales_df.columns\n"
   ]
  },
  {
   "cell_type": "code",
   "execution_count": 27,
   "metadata": {},
   "outputs": [
    {
     "data": {
      "text/plain": [
       "(1000, 14)"
      ]
     },
     "execution_count": 27,
     "metadata": {},
     "output_type": "execute_result"
    }
   ],
   "source": [
    "# Check the shape of the dataframe attribute\n",
    "sales_df.shape\n",
    "# Our df has 1000 rows and 14 columns in total"
   ]
  },
  {
   "cell_type": "code",
   "execution_count": 28,
   "metadata": {},
   "outputs": [
    {
     "name": "stdout",
     "output_type": "stream",
     "text": [
      "<class 'pandas.core.frame.DataFrame'>\n",
      "RangeIndex: 1000 entries, 0 to 999\n",
      "Data columns (total 14 columns):\n",
      " #   Column                Non-Null Count  Dtype  \n",
      "---  ------                --------------  -----  \n",
      " 0   Product_ID            1000 non-null   int64  \n",
      " 1   Sale_Date             1000 non-null   object \n",
      " 2   Sales_Rep             1000 non-null   object \n",
      " 3   Region                1000 non-null   object \n",
      " 4   Sales_Amount          1000 non-null   float64\n",
      " 5   Quantity_Sold         1000 non-null   int64  \n",
      " 6   Product_Category      1000 non-null   object \n",
      " 7   Unit_Cost             1000 non-null   float64\n",
      " 8   Unit_Price            1000 non-null   float64\n",
      " 9   Customer_Type         1000 non-null   object \n",
      " 10  Discount              1000 non-null   float64\n",
      " 11  Payment_Method        1000 non-null   object \n",
      " 12  Sales_Channel         1000 non-null   object \n",
      " 13  Region_and_Sales_Rep  1000 non-null   object \n",
      "dtypes: float64(4), int64(2), object(8)\n",
      "memory usage: 109.5+ KB\n"
     ]
    }
   ],
   "source": [
    "# Inspect the information of the df\n",
    "sales_df.info()"
   ]
  },
  {
   "cell_type": "markdown",
   "metadata": {},
   "source": [
    "**Summary Findings**\n",
    "\n",
    "1. Our dataset comprises of 4 floats, 2 integers and 8 objects.\n",
    "\n",
    "2. We do not have any null values as all the counts sum to 1000"
   ]
  },
  {
   "cell_type": "code",
   "execution_count": 29,
   "metadata": {},
   "outputs": [
    {
     "data": {
      "text/html": [
       "<div>\n",
       "<style scoped>\n",
       "    .dataframe tbody tr th:only-of-type {\n",
       "        vertical-align: middle;\n",
       "    }\n",
       "\n",
       "    .dataframe tbody tr th {\n",
       "        vertical-align: top;\n",
       "    }\n",
       "\n",
       "    .dataframe thead th {\n",
       "        text-align: right;\n",
       "    }\n",
       "</style>\n",
       "<table border=\"1\" class=\"dataframe\">\n",
       "  <thead>\n",
       "    <tr style=\"text-align: right;\">\n",
       "      <th></th>\n",
       "      <th>Product_ID</th>\n",
       "      <th>Sales_Amount</th>\n",
       "      <th>Quantity_Sold</th>\n",
       "      <th>Unit_Cost</th>\n",
       "      <th>Unit_Price</th>\n",
       "      <th>Discount</th>\n",
       "    </tr>\n",
       "  </thead>\n",
       "  <tbody>\n",
       "    <tr>\n",
       "      <th>count</th>\n",
       "      <td>1000.000000</td>\n",
       "      <td>1000.000000</td>\n",
       "      <td>1000.000000</td>\n",
       "      <td>1000.000000</td>\n",
       "      <td>1000.000000</td>\n",
       "      <td>1000.00000</td>\n",
       "    </tr>\n",
       "    <tr>\n",
       "      <th>mean</th>\n",
       "      <td>1050.128000</td>\n",
       "      <td>5019.265230</td>\n",
       "      <td>25.355000</td>\n",
       "      <td>2475.304550</td>\n",
       "      <td>2728.440120</td>\n",
       "      <td>0.15239</td>\n",
       "    </tr>\n",
       "    <tr>\n",
       "      <th>std</th>\n",
       "      <td>29.573505</td>\n",
       "      <td>2846.790126</td>\n",
       "      <td>14.159006</td>\n",
       "      <td>1417.872546</td>\n",
       "      <td>1419.399839</td>\n",
       "      <td>0.08720</td>\n",
       "    </tr>\n",
       "    <tr>\n",
       "      <th>min</th>\n",
       "      <td>1001.000000</td>\n",
       "      <td>100.120000</td>\n",
       "      <td>1.000000</td>\n",
       "      <td>60.280000</td>\n",
       "      <td>167.120000</td>\n",
       "      <td>0.00000</td>\n",
       "    </tr>\n",
       "    <tr>\n",
       "      <th>25%</th>\n",
       "      <td>1024.000000</td>\n",
       "      <td>2550.297500</td>\n",
       "      <td>13.000000</td>\n",
       "      <td>1238.380000</td>\n",
       "      <td>1509.085000</td>\n",
       "      <td>0.08000</td>\n",
       "    </tr>\n",
       "    <tr>\n",
       "      <th>50%</th>\n",
       "      <td>1051.000000</td>\n",
       "      <td>5019.300000</td>\n",
       "      <td>25.000000</td>\n",
       "      <td>2467.235000</td>\n",
       "      <td>2696.400000</td>\n",
       "      <td>0.15000</td>\n",
       "    </tr>\n",
       "    <tr>\n",
       "      <th>75%</th>\n",
       "      <td>1075.000000</td>\n",
       "      <td>7507.445000</td>\n",
       "      <td>38.000000</td>\n",
       "      <td>3702.865000</td>\n",
       "      <td>3957.970000</td>\n",
       "      <td>0.23000</td>\n",
       "    </tr>\n",
       "    <tr>\n",
       "      <th>max</th>\n",
       "      <td>1100.000000</td>\n",
       "      <td>9989.040000</td>\n",
       "      <td>49.000000</td>\n",
       "      <td>4995.300000</td>\n",
       "      <td>5442.150000</td>\n",
       "      <td>0.30000</td>\n",
       "    </tr>\n",
       "  </tbody>\n",
       "</table>\n",
       "</div>"
      ],
      "text/plain": [
       "        Product_ID  Sales_Amount  Quantity_Sold    Unit_Cost   Unit_Price  \\\n",
       "count  1000.000000   1000.000000    1000.000000  1000.000000  1000.000000   \n",
       "mean   1050.128000   5019.265230      25.355000  2475.304550  2728.440120   \n",
       "std      29.573505   2846.790126      14.159006  1417.872546  1419.399839   \n",
       "min    1001.000000    100.120000       1.000000    60.280000   167.120000   \n",
       "25%    1024.000000   2550.297500      13.000000  1238.380000  1509.085000   \n",
       "50%    1051.000000   5019.300000      25.000000  2467.235000  2696.400000   \n",
       "75%    1075.000000   7507.445000      38.000000  3702.865000  3957.970000   \n",
       "max    1100.000000   9989.040000      49.000000  4995.300000  5442.150000   \n",
       "\n",
       "         Discount  \n",
       "count  1000.00000  \n",
       "mean      0.15239  \n",
       "std       0.08720  \n",
       "min       0.00000  \n",
       "25%       0.08000  \n",
       "50%       0.15000  \n",
       "75%       0.23000  \n",
       "max       0.30000  "
      ]
     },
     "execution_count": 29,
     "metadata": {},
     "output_type": "execute_result"
    }
   ],
   "source": [
    "# Confirm the descriptive columns\n",
    "sales_df.describe()"
   ]
  },
  {
   "cell_type": "markdown",
   "metadata": {},
   "source": [
    "**Summary Findings**\n",
    "\n",
    "1. Based on the mean, quartile and max statistical data we do not detect any outliers however we shall proceed to confirm this assumption during data cleaning.\n",
    "\n"
   ]
  },
  {
   "cell_type": "markdown",
   "metadata": {},
   "source": [
    "#### Data Cleaning"
   ]
  },
  {
   "cell_type": "code",
   "execution_count": 30,
   "metadata": {},
   "outputs": [
    {
     "data": {
      "text/plain": [
       "0"
      ]
     },
     "execution_count": 30,
     "metadata": {},
     "output_type": "execute_result"
    }
   ],
   "source": [
    "# Check for duplicate values\n",
    "sales_df.duplicated().sum()"
   ]
  },
  {
   "cell_type": "code",
   "execution_count": 31,
   "metadata": {},
   "outputs": [
    {
     "data": {
      "text/plain": [
       "Product_ID              0\n",
       "Sale_Date               0\n",
       "Sales_Rep               0\n",
       "Region                  0\n",
       "Sales_Amount            0\n",
       "Quantity_Sold           0\n",
       "Product_Category        0\n",
       "Unit_Cost               0\n",
       "Unit_Price              0\n",
       "Customer_Type           0\n",
       "Discount                0\n",
       "Payment_Method          0\n",
       "Sales_Channel           0\n",
       "Region_and_Sales_Rep    0\n",
       "dtype: int64"
      ]
     },
     "execution_count": 31,
     "metadata": {},
     "output_type": "execute_result"
    }
   ],
   "source": [
    "# Check for missing values\n",
    "sales_df.isnull().sum()"
   ]
  },
  {
   "cell_type": "code",
   "execution_count": 41,
   "metadata": {},
   "outputs": [
    {
     "data": {
      "image/png": "[encoded data removed]",
      "text/plain": [
       "<Figure size 432x288 with 1 Axes>"
      ]
     },
     "metadata": {
      "needs_background": "light"
     },
     "output_type": "display_data"
    },
    {
     "data": {
      "image/png": "[encoded data removed]",
      "text/plain": [
       "<Figure size 432x288 with 1 Axes>"
      ]
     },
     "metadata": {
      "needs_background": "light"
     },
     "output_type": "display_data"
    },
    {
     "data": {
      "image/png": "[encoded data removed]",
      "text/plain": [
       "<Figure size 432x288 with 1 Axes>"
      ]
     },
     "metadata": {
      "needs_background": "light"
     },
     "output_type": "display_data"
    },
    {
     "data": {
      "image/png": "[encoded data removed]",
      "text/plain": [
       "<Figure size 432x288 with 1 Axes>"
      ]
     },
     "metadata": {
      "needs_background": "light"
     },
     "output_type": "display_data"
    },
    {
     "data": {
      "image/png": "[encoded data removed]",
      "text/plain": [
       "<Figure size 432x288 with 1 Axes>"
      ]
     },
     "metadata": {
      "needs_background": "light"
     },
     "output_type": "display_data"
    },
    {
     "data": {
      "image/png": "[encoded data removed]",
      "text/plain": [
       "<Figure size 432x288 with 1 Axes>"
      ]
     },
     "metadata": {
      "needs_background": "light"
     },
     "output_type": "display_data"
    }
   ],
   "source": [
    "#  Check for Outliers from the statistical columns\n",
    "#  Visualize the same\n",
    "numericals = sales_df.select_dtypes(include=['float64', 'int64'])\n",
    "\n",
    "for col in numericals.columns:\n",
    "    sns.boxplot(y=numericals[col])\n",
    "    plt.title(col)\n",
    "    plt.show();"
   ]
  },
  {
   "cell_type": "markdown",
   "metadata": {},
   "source": [
    "**Summary Findings**\n",
    "\n",
    "1. As mentioned earlier from our observations, we have confirmed that we do not have any outliers."
   ]
  },
  {
   "cell_type": "markdown",
   "metadata": {},
   "source": [
    "#### Univariate Analysis\n"
   ]
  },
  {
   "cell_type": "code",
   "execution_count": null,
   "metadata": {},
   "outputs": [
    {
     "name": "stdout",
     "output_type": "stream",
     "text": [
      "Product_id Unique Values: 100\n",
      "Top 10 listed Products:\n",
      "Product_ID\n",
      "1090    20\n",
      "1062    19\n",
      "1092    19\n",
      "1099    18\n",
      "1033    18\n",
      "1001    16\n",
      "1086    15\n",
      "1058    15\n",
      "1017    15\n",
      "1089    14\n",
      "Name: count, dtype: int64\n",
      "\n",
      "Bottom 10 listed Products:\n",
      "Product_ID\n",
      "1079    6\n",
      "1010    6\n",
      "1091    5\n",
      "1043    5\n",
      "1068    5\n",
      "1040    5\n",
      "1011    4\n",
      "1041    4\n",
      "1083    4\n",
      "1031    3\n",
      "Name: count, dtype: int64\n",
      "\n"
     ]
    },
    {
     "data": {
      "image/png": "[encoded data removed]",
      "text/plain": [
       "<Figure size 576x432 with 1 Axes>"
      ]
     },
     "metadata": {
      "needs_background": "light"
     },
     "output_type": "display_data"
    }
   ],
   "source": [
    "# View the unique values of the product id columns\n",
    "# View the item value count and the top 10 and bottom 10\n",
    "# Visualize the value counts results\n",
    "print(f\"Product_id Unique Values: {sales_df['Product_ID'].nunique()}\")\n",
    "\n",
    "product_id = sales_df[\"Product_ID\"].value_counts()\n",
    "\n",
    "# Display top and bottom 10 products\n",
    "print(f\"Top 10 listed Products:\\n{product_id.head(10)}\\n\")\n",
    "print(f\"Bottom 10 listed Products:\\n{product_id.tail(10)}\\n\")  \n",
    "\n",
    "# Plot top 10 listed products\n",
    "fig, ax = plt.subplots(figsize=(8, 6))\n",
    "top_10_listed_products = product_id.head(10)\n",
    "sns.barplot(x=top_10_listed_products.index, y=top_10_listed_products.values)\n",
    "\n",
    "# Visualization\n",
    "plt.xticks(rotation=45, ha=\"right\")  \n",
    "plt.xlabel(\"Product ID\")\n",
    "plt.ylabel(\"Count\")\n",
    "plt.title(\"Top 10 Listed Products\")\n",
    "plt.show()"
   ]
  },
  {
   "cell_type": "markdown",
   "metadata": {},
   "source": [
    "**Summary Findings**\n",
    "\n",
    "1. Product id 1090 has the highest records of 20 rows followed by 1062 and 1092 at 19 and 1099 and 1033 at 18 respectively indicating that they were the most sold products.\n",
    "\n",
    "2. The least sold products are 1040, 1011, 1041, 1083 and 1031 respectively in that order."
   ]
  },
  {
   "cell_type": "code",
   "execution_count": 109,
   "metadata": {},
   "outputs": [
    {
     "name": "stdout",
     "output_type": "stream",
     "text": [
      "Sales_Rep\n",
      "David      222\n",
      "Eve        209\n",
      "Bob        208\n",
      "Alice      192\n",
      "Charlie    169\n",
      "Name: count, dtype: int64\n"
     ]
    },
    {
     "data": {
      "image/png": "[encoded data removed]",
      "text/plain": [
       "<Figure size 432x288 with 1 Axes>"
      ]
     },
     "metadata": {
      "needs_background": "light"
     },
     "output_type": "display_data"
    }
   ],
   "source": [
    "# Sales Rep\n",
    "sales_rep = sales_df['Sales_Rep'].value_counts()\n",
    "print(sales_rep)\n",
    "sales_rep.plot(kind='barh')\n",
    "plt.xlabel(\"Sales Count\")\n",
    "plt.title(\"Sales Representatives\");"
   ]
  },
  {
   "cell_type": "markdown",
   "metadata": {},
   "source": [
    "**Summary Findings**\n",
    "\n",
    "1. We have 5 sales reps: David, Eve and Bob had the highest sales respectively."
   ]
  },
  {
   "cell_type": "code",
   "execution_count": 108,
   "metadata": {},
   "outputs": [
    {
     "name": "stdout",
     "output_type": "stream",
     "text": [
      "Region\n",
      "North    267\n",
      "East     263\n",
      "West     244\n",
      "South    226\n",
      "Name: count, dtype: int64\n"
     ]
    },
    {
     "data": {
      "image/png": "[encoded data removed]",
      "text/plain": [
       "<Figure size 432x288 with 1 Axes>"
      ]
     },
     "metadata": {
      "needs_background": "light"
     },
     "output_type": "display_data"
    }
   ],
   "source": [
    "# Region Analysis\n",
    "region = sales_df['Region'].value_counts()\n",
    "print(region)\n",
    "region.plot(kind='bar')\n",
    "plt.ylabel(\"Counts Per Region\")\n",
    "plt.title(\"Region\");"
   ]
  },
  {
   "cell_type": "markdown",
   "metadata": {},
   "source": [
    "**Summary Findings**\n",
    "\n",
    "1. North Region has the highest sales followed by East region. South region records the lowest sales"
   ]
  },
  {
   "cell_type": "code",
   "execution_count": 107,
   "metadata": {},
   "outputs": [
    {
     "name": "stdout",
     "output_type": "stream",
     "text": [
      "Product_Category\n",
      "Clothing       268\n",
      "Furniture      260\n",
      "Electronics    246\n",
      "Food           226\n",
      "Name: count, dtype: int64\n"
     ]
    },
    {
     "data": {
      "image/png": "[encoded data removed]",
      "text/plain": [
       "<Figure size 432x288 with 1 Axes>"
      ]
     },
     "metadata": {
      "needs_background": "light"
     },
     "output_type": "display_data"
    }
   ],
   "source": [
    "# Check the max, min, mean and std \n",
    "product_cat = sales_df.Product_Category.value_counts()\n",
    "print(product_cat)\n",
    "product_cat.plot(kind = 'barh', color = \"red\")\n",
    "plt.xlabel(\"Count of Product Sales Per Category\")\n",
    "plt.title(\"Product Category\");"
   ]
  },
  {
   "cell_type": "markdown",
   "metadata": {},
   "source": [
    "**Summary Findings**\n",
    "\n",
    "1. The most sold product in categorization was the Clothing and the least sold products Food."
   ]
  },
  {
   "cell_type": "code",
   "execution_count": 106,
   "metadata": {},
   "outputs": [
    {
     "name": "stdout",
     "output_type": "stream",
     "text": [
      "Customer_Type\n",
      "New          504\n",
      "Returning    496\n",
      "Name: count, dtype: int64\n"
     ]
    },
    {
     "data": {
      "image/png": "[encoded data removed]",
      "text/plain": [
       "<Figure size 432x288 with 1 Axes>"
      ]
     },
     "metadata": {
      "needs_background": "light"
     },
     "output_type": "display_data"
    }
   ],
   "source": [
    "customer_type = sales_df['Customer_Type'].value_counts()\n",
    "print(customer_type)\n",
    "customer_type.plot(kind='bar')\n",
    "plt.ylabel(\"Count of Sales Per Customer Type\")\n",
    "plt.title(\"Customer Type\");"
   ]
  },
  {
   "cell_type": "markdown",
   "metadata": {},
   "source": [
    "**Findings**\n",
    "\n",
    "1. Most of the sales were made from new customers. We also have a good number of returning customers. This is a possible indication of service or product satisfaction."
   ]
  },
  {
   "cell_type": "code",
   "execution_count": 110,
   "metadata": {},
   "outputs": [
    {
     "name": "stdout",
     "output_type": "stream",
     "text": [
      "Payment_Method\n",
      "Credit Card      345\n",
      "Bank Transfer    342\n",
      "Cash             313\n",
      "Name: count, dtype: int64\n"
     ]
    },
    {
     "data": {
      "image/png": "[encoded data removed]",
      "text/plain": [
       "<Figure size 432x288 with 1 Axes>"
      ]
     },
     "metadata": {
      "needs_background": "light"
     },
     "output_type": "display_data"
    }
   ],
   "source": [
    "payment_method = sales_df['Payment_Method'].value_counts()\n",
    "print(payment_method)\n",
    "payment_method.plot(kind='barh', color='red')\n",
    "plt.title(\"Payment Method Analysis\")\n",
    "plt.xlabel(\"Count of Sales Per Payment Method\");"
   ]
  },
  {
   "cell_type": "markdown",
   "metadata": {},
   "source": [
    "**Findings**\n",
    "\n",
    "1. Most of the products were paid using the Credit cards followed by Bank transfer and Cash."
   ]
  },
  {
   "cell_type": "code",
   "execution_count": 112,
   "metadata": {},
   "outputs": [
    {
     "name": "stdout",
     "output_type": "stream",
     "text": [
      "Sales_Channel\n",
      "Retail    512\n",
      "Online    488\n",
      "Name: count, dtype: int64\n"
     ]
    },
    {
     "data": {
      "image/png": "[encoded data removed]",
      "text/plain": [
       "<Figure size 432x288 with 1 Axes>"
      ]
     },
     "metadata": {
      "needs_background": "light"
     },
     "output_type": "display_data"
    }
   ],
   "source": [
    "sales_channel = sales_df['Sales_Channel'].value_counts()\n",
    "print(sales_channel)\n",
    "sales_channel.plot(kind='barh')\n",
    "plt.title(\"Sales Channel Analysis\")\n",
    "plt.xlabel(\"Count of Sales Per Channel\");"
   ]
  },
  {
   "cell_type": "markdown",
   "metadata": {},
   "source": [
    "**Findings**\n",
    "\n",
    "1. The sales channel through which most of the sales was made was through the retail channel then followed closely by online purchases."
   ]
  },
  {
   "cell_type": "code",
   "execution_count": 119,
   "metadata": {},
   "outputs": [
    {
     "name": "stdout",
     "output_type": "stream",
     "text": [
      "Region_and_Sales_Rep\n",
      "North-Eve        64\n",
      "East-Bob         60\n",
      "East-David       59\n",
      "South-David      56\n",
      "North-David      56\n",
      "North-Charlie    55\n",
      "East-Eve         55\n",
      "West-Bob         54\n",
      "East-Alice       52\n",
      "West-David       51\n",
      "South-Bob        50\n",
      "North-Alice      48\n",
      "West-Alice       47\n",
      "West-Eve         47\n",
      "West-Charlie     45\n",
      "South-Alice      45\n",
      "North-Bob        44\n",
      "South-Eve        43\n",
      "East-Charlie     37\n",
      "South-Charlie    32\n",
      "Name: count, dtype: int64\n"
     ]
    },
    {
     "data": {
      "image/png": "[encoded data removed]",
      "text/plain": [
       "<Figure size 576x288 with 1 Axes>"
      ]
     },
     "metadata": {
      "needs_background": "light"
     },
     "output_type": "display_data"
    }
   ],
   "source": [
    "region_sales_rep = sales_df['Region_and_Sales_Rep'].value_counts()\n",
    "print(region_sales_rep)\n",
    "region_sales_rep.plot(kind='bar', figsize=(8, 4))\n",
    "plt.title(\"Region Sales Rep Analysis \")\n",
    "plt.ylabel(\"Count of Sales per Region and Sales Rep\");"
   ]
  },
  {
   "cell_type": "markdown",
   "metadata": {},
   "source": [
    "**Findings**\n",
    "\n",
    "1. Eve sold most products in the North Region, Bob in the East region, David in the South region and Bob again in the West as well."
   ]
  },
  {
   "cell_type": "markdown",
   "metadata": {},
   "source": [
    "#### Multivariate Analysis"
   ]
  },
  {
   "cell_type": "code",
   "execution_count": null,
   "metadata": {},
   "outputs": [],
   "source": []
  }
 ],
 "metadata": {
  "kernelspec": {
   "display_name": "learn-env",
   "language": "python",
   "name": "python3"
  },
  "language_info": {
   "codemirror_mode": {
    "name": "ipython",
    "version": 3
   },
   "file_extension": ".py",
   "mimetype": "text/x-python",
   "name": "python",
   "nbconvert_exporter": "python",
   "pygments_lexer": "ipython3",
   "version": "3.8.5"
  }
 },
 "nbformat": 4,
 "nbformat_minor": 2
}
